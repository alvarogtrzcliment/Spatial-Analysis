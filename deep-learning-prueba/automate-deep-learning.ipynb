{
 "cells": [
  {
   "cell_type": "markdown",
   "metadata": {},
   "source": [
    "# ArcGIS Deep Learning Pre-trained Models"
   ]
  },
  {
   "cell_type": "markdown",
   "metadata": {},
   "source": [
    "## Acceder a las imágenes de las cámaras de la DGT"
   ]
  },
  {
   "cell_type": "markdown",
   "metadata": {},
   "source": [
    "Importo la API de Python para poder acceder a los datos de ArcGIS Online"
   ]
  },
  {
   "cell_type": "code",
   "execution_count": 14,
   "metadata": {},
   "outputs": [],
   "source": [
    "from arcgis.gis import GIS\n",
    "gis = GIS(\"home\")"
   ]
  },
  {
   "cell_type": "markdown",
   "metadata": {},
   "source": [
    "Accedo al servicio de Cámaras de Tráfico de la DGT"
   ]
  },
  {
   "cell_type": "code",
   "execution_count": 16,
   "metadata": {},
   "outputs": [
    {
     "data": {
      "text/plain": [
       "<FeatureLayer url:\"https://services1.arcgis.com/YFraetVkEAF1lMag/arcgis/rest/services/Camaras_DGT_Albacete/FeatureServer/0\">"
      ]
     },
     "execution_count": 16,
     "metadata": {},
     "output_type": "execute_result"
    }
   ],
   "source": [
    "idServicio = \"13c0065c40984c34baae3493061646ce\"\n",
    "camarasTrafico = gis.content.get(idServicio).layers[0]\n",
    "camarasTrafico"
   ]
  },
  {
   "cell_type": "markdown",
   "metadata": {},
   "source": [
    "Importo la librería pandas para poder trabajar con datos tabulares de forma sencilla"
   ]
  },
  {
   "cell_type": "code",
   "execution_count": 17,
   "metadata": {},
   "outputs": [],
   "source": [
    "import pandas as pd"
   ]
  },
  {
   "cell_type": "markdown",
   "metadata": {},
   "source": [
    "Importo arcpy para poder trabajar con las herramientas de geoprocesamiento de ArcGIS"
   ]
  },
  {
   "cell_type": "code",
   "execution_count": 1,
   "metadata": {},
   "outputs": [],
   "source": [
    "import arcpy\n",
    "from arcpy.ia import *"
   ]
  },
  {
   "cell_type": "markdown",
   "metadata": {},
   "source": [
    "Activo la propiedad de sobreescribir dentro de la fgdb para que se sobreescriba cualquier tipo de resultado en mi gdb"
   ]
  },
  {
   "cell_type": "code",
   "execution_count": 2,
   "metadata": {},
   "outputs": [],
   "source": [
    "arcpy.env.overwriteOutput = True"
   ]
  },
  {
   "cell_type": "markdown",
   "metadata": {},
   "source": [
    "Chequeo si tengo las extensiones necesarias"
   ]
  },
  {
   "cell_type": "code",
   "execution_count": 3,
   "metadata": {},
   "outputs": [
    {
     "data": {
      "text/plain": [
       "'CheckedOut'"
      ]
     },
     "execution_count": 3,
     "metadata": {},
     "output_type": "execute_result"
    }
   ],
   "source": [
    "arcpy.CheckOutExtension(\"ImageExt\")\n",
    "arcpy.CheckOutExtension(\"ImageAnalyst\")"
   ]
  },
  {
   "cell_type": "markdown",
   "metadata": {},
   "source": [
    "Establezco el entorno de trabajo, en mi caso la FGDB del proyecto"
   ]
  },
  {
   "cell_type": "code",
   "execution_count": 4,
   "metadata": {},
   "outputs": [],
   "source": [
    "arcpy.env.workspace = \"C:\\\\Users\\\\alvaro.gutierrez\\\\OneDrive - ESRI ESPAÑA Soluciones Geoespaciales S.L\\\\Documentos\\\\ArcGIS\\\\Projects\\\\GeoAI - Pruebas\\\\GeoAI - Pruebas.gdb\""
   ]
  },
  {
   "cell_type": "markdown",
   "metadata": {},
   "source": [
    "Importo la Imagen que vamos a utilizar para realizar el análisis"
   ]
  },
  {
   "cell_type": "code",
   "execution_count": 5,
   "metadata": {},
   "outputs": [],
   "source": [
    "PNOA_MA_OF_ETRS89_HU30_h25_0559_2_tif = arcpy.Raster(\"C:/Users/alvaro.gutierrez/DatosLocal/Imagenes-deep-learning/344.jpg\")\n"
   ]
  },
  {
   "cell_type": "markdown",
   "metadata": {},
   "source": [
    "Importo el Modelo pre-entrenado descargado del Living Atlas"
   ]
  },
  {
   "cell_type": "code",
   "execution_count": 6,
   "metadata": {},
   "outputs": [],
   "source": [
    "TextSAM_dlpk = \"C:/Users/alvaro.gutierrez/DatosLocal/Imagenes-deep-learning/DeepLearningPackage/TextSAM.dlpk\""
   ]
  },
  {
   "cell_type": "markdown",
   "metadata": {},
   "source": [
    "Determino la ruta de salida de los polígonos al aplicar la herramienta"
   ]
  },
  {
   "cell_type": "code",
   "execution_count": 7,
   "metadata": {},
   "outputs": [],
   "source": [
    "nombreDeLaCapaNueva = 'Prueba7'\n",
    "rutaDeSalida = f\"C:\\\\Users\\\\alvaro.gutierrez\\\\OneDrive - ESRI ESPAÑA Soluciones Geoespaciales S.L\\\\Documentos\\\\ArcGIS\\\\Projects\\\\GeoAI - Pruebas\\\\GeoAI - Pruebas.gdb\\\\{nombreDeLaCapaNueva}\""
   ]
  },
  {
   "cell_type": "markdown",
   "metadata": {},
   "source": [
    "Aplico el Modelo configurando los parámetros"
   ]
  },
  {
   "cell_type": "code",
   "execution_count": 8,
   "metadata": {},
   "outputs": [
    {
     "name": "stdout",
     "output_type": "stream",
     "text": [
      "final text_encoder_type: bert-base-uncased\n",
      "final text_encoder_type: bert-base-uncased\n",
      "final text_encoder_type: bert-base-uncased\n",
      "final text_encoder_type: bert-base-uncased\n"
     ]
    }
   ],
   "source": [
    "\n",
    "with arcpy.EnvManager( \n",
    "  scratchWorkspace=\"C:\\\\Users\\\\alvaro.gutierrez\\\\OneDrive - ESRI ESPAÑA Soluciones Geoespaciales S.L\\\\Documentos\\\\ArcGIS\\\\Projects\\\\GeoAI - Pruebas\\\\GeoAI - Pruebas.gdb\"\n",
    "  ):\n",
    "  arcpy.ia.DetectObjectsUsingDeepLearning(\n",
    "    PNOA_MA_OF_ETRS89_HU30_h25_0559_2_tif, \n",
    "    rutaDeSalida, \n",
    "    TextSAM_dlpk, \n",
    "    [\n",
    "      [\"text_prompt\", \"car\"], \n",
    "      [\"padding\", \"256\"], \n",
    "      [\"batch_size\", \"4\"], \n",
    "      [\"box_threshold\", \"0,4\"], \n",
    "      [\"text_threshold\", \"0,2\"], \n",
    "      [\"box_nms_thresh\", \"0,7\"]\n",
    "    ], \n",
    "    \"NO_NMS\", \n",
    "    \"Confidence\", \n",
    "    \"Class\", \n",
    "    0, \n",
    "    \"PROCESS_AS_MOSAICKED_IMAGE\"\n",
    "  )"
   ]
  },
  {
   "cell_type": "markdown",
   "metadata": {},
   "source": [
    "## Contar los coches"
   ]
  },
  {
   "cell_type": "code",
   "execution_count": 13,
   "metadata": {},
   "outputs": [
    {
     "data": {
      "text/plain": [
       "'4'"
      ]
     },
     "execution_count": 13,
     "metadata": {},
     "output_type": "execute_result"
    }
   ],
   "source": [
    "arcpy.GetCount_management(\"Prueba7\").getOutput(0)"
   ]
  }
 ],
 "metadata": {
  "kernelspec": {
   "display_name": "Python 3",
   "language": "python",
   "name": "python3"
  },
  "language_info": {
   "codemirror_mode": {
    "name": "ipython",
    "version": 3
   },
   "file_extension": ".py",
   "mimetype": "text/x-python",
   "name": "python",
   "nbconvert_exporter": "python",
   "pygments_lexer": "ipython3",
   "version": "3.9.18"
  }
 },
 "nbformat": 4,
 "nbformat_minor": 2
}
