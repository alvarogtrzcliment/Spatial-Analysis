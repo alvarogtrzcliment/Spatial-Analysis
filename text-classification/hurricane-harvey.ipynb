{
 "cells": [
  {
   "cell_type": "markdown",
   "metadata": {},
   "source": [
    "# Hurricane Harvey Twits Classification and Geocodification"
   ]
  },
  {
   "cell_type": "code",
   "execution_count": 2,
   "metadata": {},
   "outputs": [],
   "source": [
    "import pandas as pd\n",
    "from arcgis.learn.text import EntityRecognizer"
   ]
  },
  {
   "cell_type": "code",
   "execution_count": 5,
   "metadata": {},
   "outputs": [
    {
     "data": {
      "text/html": [
       "<div>\n",
       "<style scoped>\n",
       "    .dataframe tbody tr th:only-of-type {\n",
       "        vertical-align: middle;\n",
       "    }\n",
       "\n",
       "    .dataframe tbody tr th {\n",
       "        vertical-align: top;\n",
       "    }\n",
       "\n",
       "    .dataframe thead th {\n",
       "        text-align: right;\n",
       "    }\n",
       "</style>\n",
       "<table border=\"1\" class=\"dataframe\">\n",
       "  <thead>\n",
       "    <tr style=\"text-align: right;\">\n",
       "      <th></th>\n",
       "      <th>Unnamed: 0</th>\n",
       "      <th>ID</th>\n",
       "      <th>Likes</th>\n",
       "      <th>Replies</th>\n",
       "      <th>Retweets</th>\n",
       "      <th>Time</th>\n",
       "      <th>Tweet</th>\n",
       "    </tr>\n",
       "  </thead>\n",
       "  <tbody>\n",
       "    <tr>\n",
       "      <th>0</th>\n",
       "      <td>0.0</td>\n",
       "      <td>9.010000e+17</td>\n",
       "      <td>3.0</td>\n",
       "      <td>0.0</td>\n",
       "      <td>0.0</td>\n",
       "      <td>8/25/2017 14:44</td>\n",
       "      <td>If you do decide to drive in for #ColdplayHous...</td>\n",
       "    </tr>\n",
       "    <tr>\n",
       "      <th>1</th>\n",
       "      <td>1.0</td>\n",
       "      <td>9.010000e+17</td>\n",
       "      <td>0.0</td>\n",
       "      <td>0.0</td>\n",
       "      <td>0.0</td>\n",
       "      <td>8/25/2017 14:44</td>\n",
       "      <td>As Hurricane Harvey is fast approaching, now i...</td>\n",
       "    </tr>\n",
       "    <tr>\n",
       "      <th>2</th>\n",
       "      <td>2.0</td>\n",
       "      <td>9.010000e+17</td>\n",
       "      <td>6.0</td>\n",
       "      <td>0.0</td>\n",
       "      <td>1.0</td>\n",
       "      <td>8/25/2017 14:44</td>\n",
       "      <td>Is @JerryJordan_KTT providing live #HurricaneH...</td>\n",
       "    </tr>\n",
       "    <tr>\n",
       "      <th>3</th>\n",
       "      <td>3.0</td>\n",
       "      <td>9.010000e+17</td>\n",
       "      <td>0.0</td>\n",
       "      <td>0.0</td>\n",
       "      <td>0.0</td>\n",
       "      <td>8/25/2017 14:44</td>\n",
       "      <td>I'm waiting for a Steve Harvey Hurricane meme</td>\n",
       "    </tr>\n",
       "    <tr>\n",
       "      <th>4</th>\n",
       "      <td>4.0</td>\n",
       "      <td>9.010000e+17</td>\n",
       "      <td>0.0</td>\n",
       "      <td>0.0</td>\n",
       "      <td>0.0</td>\n",
       "      <td>8/25/2017 14:44</td>\n",
       "      <td>The name of the hurricane is Harvey ... Steve ...</td>\n",
       "    </tr>\n",
       "    <tr>\n",
       "      <th>...</th>\n",
       "      <td>...</td>\n",
       "      <td>...</td>\n",
       "      <td>...</td>\n",
       "      <td>...</td>\n",
       "      <td>...</td>\n",
       "      <td>...</td>\n",
       "      <td>...</td>\n",
       "    </tr>\n",
       "    <tr>\n",
       "      <th>399401</th>\n",
       "      <td>224353.0</td>\n",
       "      <td>9.030000e+17</td>\n",
       "      <td>0.0</td>\n",
       "      <td>0.0</td>\n",
       "      <td>0.0</td>\n",
       "      <td>8/29/2017 13:56</td>\n",
       "      <td>Lawyers wanting to provide pro bono help in th...</td>\n",
       "    </tr>\n",
       "    <tr>\n",
       "      <th>399402</th>\n",
       "      <td>224354.0</td>\n",
       "      <td>9.030000e+17</td>\n",
       "      <td>0.0</td>\n",
       "      <td>0.0</td>\n",
       "      <td>0.0</td>\n",
       "      <td>8/29/2017 13:56</td>\n",
       "      <td>Hurricane Harvey: Alabamas largest church alr...</td>\n",
       "    </tr>\n",
       "    <tr>\n",
       "      <th>399403</th>\n",
       "      <td>224355.0</td>\n",
       "      <td>9.030000e+17</td>\n",
       "      <td>0.0</td>\n",
       "      <td>0.0</td>\n",
       "      <td>0.0</td>\n",
       "      <td>8/29/2017 13:56</td>\n",
       "      <td>Hurricane Harvey pressures already tight Houst...</td>\n",
       "    </tr>\n",
       "    <tr>\n",
       "      <th>399404</th>\n",
       "      <td>224356.0</td>\n",
       "      <td>9.030000e+17</td>\n",
       "      <td>0.0</td>\n",
       "      <td>0.0</td>\n",
       "      <td>0.0</td>\n",
       "      <td>8/29/2017 13:57</td>\n",
       "      <td>Our thoughts are with our neighbors in the Sou...</td>\n",
       "    </tr>\n",
       "    <tr>\n",
       "      <th>399405</th>\n",
       "      <td>224357.0</td>\n",
       "      <td>9.030000e+17</td>\n",
       "      <td>0.0</td>\n",
       "      <td>0.0</td>\n",
       "      <td>0.0</td>\n",
       "      <td>8/29/2017 13:57</td>\n",
       "      <td>Marylanders head to Texas to assist with Hurri...</td>\n",
       "    </tr>\n",
       "  </tbody>\n",
       "</table>\n",
       "<p>399406 rows × 7 columns</p>\n",
       "</div>"
      ],
      "text/plain": [
       "        Unnamed: 0            ID  Likes  Replies  Retweets             Time  \\\n",
       "0              0.0  9.010000e+17    3.0      0.0       0.0  8/25/2017 14:44   \n",
       "1              1.0  9.010000e+17    0.0      0.0       0.0  8/25/2017 14:44   \n",
       "2              2.0  9.010000e+17    6.0      0.0       1.0  8/25/2017 14:44   \n",
       "3              3.0  9.010000e+17    0.0      0.0       0.0  8/25/2017 14:44   \n",
       "4              4.0  9.010000e+17    0.0      0.0       0.0  8/25/2017 14:44   \n",
       "...            ...           ...    ...      ...       ...              ...   \n",
       "399401    224353.0  9.030000e+17    0.0      0.0       0.0  8/29/2017 13:56   \n",
       "399402    224354.0  9.030000e+17    0.0      0.0       0.0  8/29/2017 13:56   \n",
       "399403    224355.0  9.030000e+17    0.0      0.0       0.0  8/29/2017 13:56   \n",
       "399404    224356.0  9.030000e+17    0.0      0.0       0.0  8/29/2017 13:57   \n",
       "399405    224357.0  9.030000e+17    0.0      0.0       0.0  8/29/2017 13:57   \n",
       "\n",
       "                                                    Tweet  \n",
       "0       If you do decide to drive in for #ColdplayHous...  \n",
       "1       As Hurricane Harvey is fast approaching, now i...  \n",
       "2       Is @JerryJordan_KTT providing live #HurricaneH...  \n",
       "3           I'm waiting for a Steve Harvey Hurricane meme  \n",
       "4       The name of the hurricane is Harvey ... Steve ...  \n",
       "...                                                   ...  \n",
       "399401  Lawyers wanting to provide pro bono help in th...  \n",
       "399402  Hurricane Harvey: Alabamas largest church alr...  \n",
       "399403  Hurricane Harvey pressures already tight Houst...  \n",
       "399404  Our thoughts are with our neighbors in the Sou...  \n",
       "399405  Marylanders head to Texas to assist with Hurri...  \n",
       "\n",
       "[399406 rows x 7 columns]"
      ]
     },
     "execution_count": 5,
     "metadata": {},
     "output_type": "execute_result"
    }
   ],
   "source": [
    "dataset = pd.read_csv('C://Users//alvaro.gutierrez//DatosLocal//DatasetsAnalisisEspacial//twits//Hurricane_Harvey.csv', encoding=\"ISO-8859-1\")\n",
    "\n",
    "dataset"
   ]
  },
  {
   "cell_type": "code",
   "execution_count": 14,
   "metadata": {},
   "outputs": [
    {
     "name": "stdout",
     "output_type": "stream",
     "text": [
      "['spacy', 'BERT', 'RoBERTa', 'DistilBERT', 'ALBERT', 'CamemBERT', 'MobileBERT', 'XLNet', 'XLM', 'XLM-RoBERTa', 'FlauBERT', 'ELECTRA', 'Longformer', 'Funnel', 'LLM']\n"
     ]
    }
   ],
   "source": [
    "print(EntityRecognizer.supported_backbones)"
   ]
  },
  {
   "cell_type": "code",
   "execution_count": 13,
   "metadata": {},
   "outputs": [
    {
     "ename": "Exception",
     "evalue": "Wrong backbone - `spacy` supplied. Only HuggingFace model names fine-tuned on `TokenClassification` tasks are allowed to be passed as `backbone` in the method.",
     "output_type": "error",
     "traceback": [
      "\u001b[1;31m---------------------------------------------------------------------------\u001b[0m",
      "\u001b[1;31mException\u001b[0m                                 Traceback (most recent call last)",
      "\u001b[1;32m~\\AppData\\Local\\Temp\\ipykernel_12676\\1325378007.py\u001b[0m in \u001b[0;36m<cell line: 0>\u001b[1;34m()\u001b[0m\n\u001b[1;32m----> 1\u001b[1;33m \u001b[0mtext_classifier\u001b[0m \u001b[1;33m=\u001b[0m \u001b[0mEntityRecognizer\u001b[0m\u001b[1;33m(\u001b[0m\u001b[0mdata\u001b[0m\u001b[1;33m=\u001b[0m \u001b[1;32mNone\u001b[0m\u001b[1;33m,\u001b[0m\u001b[0mexamples\u001b[0m\u001b[1;33m=\u001b[0m\u001b[1;33m[\u001b[0m\u001b[1;33m(\u001b[0m\u001b[1;34m'12 y/o boy needs Rescued! 8100 Cypresswood Dr Spring TX 77379. They are trapped on a second story!'\u001b[0m\u001b[1;33m,\u001b[0m\u001b[1;33m{\u001b[0m\u001b[1;34m'LOCATION'\u001b[0m\u001b[1;33m:\u001b[0m\u001b[1;33m[\u001b[0m\u001b[1;34m'8100 Cypresswood Dr Spring TX 77379'\u001b[0m\u001b[1;33m]\u001b[0m\u001b[1;33m}\u001b[0m\u001b[1;33m)\u001b[0m\u001b[1;33m]\u001b[0m\u001b[1;33m)\u001b[0m\u001b[1;33m\u001b[0m\u001b[1;33m\u001b[0m\u001b[0m\n\u001b[0m",
      "\u001b[1;32mc:\\Program Files\\ArcGIS\\Pro\\bin\\Python\\envs\\arcgispro-py3\\Lib\\site-packages\\arcgis\\learn\\text\\_ner.py\u001b[0m in \u001b[0;36m__init__\u001b[1;34m(self, data, lang, backbone, **kwargs)\u001b[0m\n\u001b[0;32m    172\u001b[0m         \u001b[1;32melse\u001b[0m\u001b[1;33m:\u001b[0m\u001b[1;33m\u001b[0m\u001b[1;33m\u001b[0m\u001b[0m\n\u001b[0;32m    173\u001b[0m             \u001b[1;32mif\u001b[0m \u001b[0mdata\u001b[0m \u001b[1;32mis\u001b[0m \u001b[1;32mNone\u001b[0m\u001b[1;33m:\u001b[0m\u001b[1;33m\u001b[0m\u001b[1;33m\u001b[0m\u001b[0m\n\u001b[1;32m--> 174\u001b[1;33m                 \u001b[0mmodel\u001b[0m \u001b[1;33m=\u001b[0m \u001b[0mEntityRecognizer\u001b[0m\u001b[1;33m.\u001b[0m\u001b[0mfrom_pretrained\u001b[0m\u001b[1;33m(\u001b[0m\u001b[0mbackbone\u001b[0m\u001b[1;33m,\u001b[0m \u001b[1;33m**\u001b[0m\u001b[0mkwargs\u001b[0m\u001b[1;33m)\u001b[0m\u001b[1;33m\u001b[0m\u001b[1;33m\u001b[0m\u001b[0m\n\u001b[0m\u001b[0;32m    175\u001b[0m                 \u001b[0mself\u001b[0m\u001b[1;33m.\u001b[0m\u001b[0m_model\u001b[0m \u001b[1;33m=\u001b[0m \u001b[0mmodel\u001b[0m\u001b[1;33m.\u001b[0m\u001b[0m_model\u001b[0m\u001b[1;33m\u001b[0m\u001b[1;33m\u001b[0m\u001b[0m\n\u001b[0;32m    176\u001b[0m                 \u001b[0mself\u001b[0m\u001b[1;33m.\u001b[0m\u001b[0mentities\u001b[0m \u001b[1;33m=\u001b[0m \u001b[0mself\u001b[0m\u001b[1;33m.\u001b[0m\u001b[0m_model\u001b[0m\u001b[1;33m.\u001b[0m\u001b[0mentities\u001b[0m\u001b[1;33m\u001b[0m\u001b[1;33m\u001b[0m\u001b[0m\n",
      "\u001b[1;32mc:\\Program Files\\ArcGIS\\Pro\\bin\\Python\\envs\\arcgispro-py3\\Lib\\site-packages\\arcgis\\learn\\text\\_ner.py\u001b[0m in \u001b[0;36mfrom_pretrained\u001b[1;34m(cls, backbone, **kwargs)\u001b[0m\n\u001b[0;32m    482\u001b[0m                 \u001b[1;34m\"`TokenClassification` tasks are allowed to be passed as `backbone` in the method.\"\u001b[0m\u001b[1;33m\u001b[0m\u001b[1;33m\u001b[0m\u001b[0m\n\u001b[0;32m    483\u001b[0m             )\n\u001b[1;32m--> 484\u001b[1;33m             \u001b[1;32mraise\u001b[0m \u001b[0mException\u001b[0m\u001b[1;33m(\u001b[0m\u001b[0merror_message\u001b[0m\u001b[1;33m)\u001b[0m\u001b[1;33m\u001b[0m\u001b[1;33m\u001b[0m\u001b[0m\n\u001b[0m\u001b[0;32m    485\u001b[0m \u001b[1;33m\u001b[0m\u001b[0m\n\u001b[0;32m    486\u001b[0m         \u001b[0mmodel_config\u001b[0m \u001b[1;33m=\u001b[0m \u001b[0mAutoConfig\u001b[0m\u001b[1;33m.\u001b[0m\u001b[0mfrom_pretrained\u001b[0m\u001b[1;33m(\u001b[0m\u001b[0mbackbone\u001b[0m\u001b[1;33m)\u001b[0m\u001b[1;33m\u001b[0m\u001b[1;33m\u001b[0m\u001b[0m\n",
      "\u001b[1;31mException\u001b[0m: Wrong backbone - `spacy` supplied. Only HuggingFace model names fine-tuned on `TokenClassification` tasks are allowed to be passed as `backbone` in the method."
     ]
    }
   ],
   "source": [
    "text_classifier = EntityRecognizer(backbone='spacy',data= None,examples=[('12 y/o boy needs Rescued! 8100 Cypresswood Dr Spring TX 77379. They are trapped on a second story!',{'LOCATION':['8100 Cypresswood Dr Spring TX 77379']})])"
   ]
  }
 ],
 "metadata": {
  "kernelspec": {
   "display_name": "Python 3",
   "language": "python",
   "name": "python3"
  },
  "language_info": {
   "codemirror_mode": {
    "name": "ipython",
    "version": 3
   },
   "file_extension": ".py",
   "mimetype": "text/x-python",
   "name": "python",
   "nbconvert_exporter": "python",
   "pygments_lexer": "ipython3",
   "version": "3.11.8"
  }
 },
 "nbformat": 4,
 "nbformat_minor": 2
}
