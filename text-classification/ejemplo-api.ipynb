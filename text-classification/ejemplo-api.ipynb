{
 "cells": [
  {
   "cell_type": "code",
   "execution_count": 1,
   "metadata": {},
   "outputs": [],
   "source": [
    "from arcgis.learn.text import EntityRecognizer"
   ]
  },
  {
   "cell_type": "code",
   "execution_count": 2,
   "metadata": {},
   "outputs": [],
   "source": [
    "import spacy\n",
    "from spacy import displacy"
   ]
  },
  {
   "cell_type": "code",
   "execution_count": 3,
   "metadata": {},
   "outputs": [],
   "source": [
    "import pandas as pd"
   ]
  },
  {
   "cell_type": "code",
   "execution_count": 4,
   "metadata": {},
   "outputs": [],
   "source": [
    "nlp = spacy.load('es_core_news_sm')"
   ]
  },
  {
   "cell_type": "code",
   "execution_count": 5,
   "metadata": {},
   "outputs": [
    {
     "data": {
      "text/plain": [
       "['tok2vec', 'morphologizer', 'parser', 'attribute_ruler', 'lemmatizer', 'ner']"
      ]
     },
     "execution_count": 5,
     "metadata": {},
     "output_type": "execute_result"
    }
   ],
   "source": [
    "nlp.pipe_names"
   ]
  },
  {
   "cell_type": "code",
   "execution_count": 6,
   "metadata": {},
   "outputs": [
    {
     "name": "stdout",
     "output_type": "stream",
     "text": [
      "Retiro | LOC\n",
      "Madrid | LOC\n",
      "El parque | MISC\n",
      "Madrid # | LOC\n"
     ]
    }
   ],
   "source": [
    "doc = nlp(\"Me encanta pasear por el Retiro en Madrid. El parque es hermoso y la gente es muy amable. #Madrid #Retiro\")\n",
    "\n",
    "for ent in doc.ents:\n",
    "    print(ent.text,'|', ent.label_)"
   ]
  },
  {
   "cell_type": "code",
   "execution_count": 7,
   "metadata": {},
   "outputs": [
    {
     "name": "stdout",
     "output_type": "stream",
     "text": [
      "Malasaña | LOC\n",
      "Madrid #Malasaña | ORG\n"
     ]
    }
   ],
   "source": [
    "doc = nlp(\"Después de una larga jornada de trabajo, me gusta relajarme en el barrio de Malasaña. Hay muchos lugares divertidos y restaurantes típicos. #Madrid #Malasaña\")\n",
    "\n",
    "for ent in doc.ents:\n",
    "    print(ent.text,'|', ent.label_)"
   ]
  },
  {
   "cell_type": "code",
   "execution_count": 8,
   "metadata": {},
   "outputs": [
    {
     "data": {
      "text/html": [
       "<span class=\"tex2jax_ignore\"><div class=\"entities\" style=\"line-height: 2.5; direction: ltr\">Después de una larga jornada de trabajo, me gusta relajarme en el barrio de \n",
       "<mark class=\"entity\" style=\"background: #ff9561; padding: 0.45em 0.6em; margin: 0 0.25em; line-height: 1; border-radius: 0.35em;\">\n",
       "    Malasaña\n",
       "    <span style=\"font-size: 0.8em; font-weight: bold; line-height: 1; border-radius: 0.35em; vertical-align: middle; margin-left: 0.5rem\">LOC</span>\n",
       "</mark>\n",
       ". Hay muchos lugares divertidos y restaurantes típicos. #\n",
       "<mark class=\"entity\" style=\"background: #7aecec; padding: 0.45em 0.6em; margin: 0 0.25em; line-height: 1; border-radius: 0.35em;\">\n",
       "    Madrid #Malasaña\n",
       "    <span style=\"font-size: 0.8em; font-weight: bold; line-height: 1; border-radius: 0.35em; vertical-align: middle; margin-left: 0.5rem\">ORG</span>\n",
       "</mark>\n",
       "</div></span>"
      ],
      "text/plain": [
       "<IPython.core.display.HTML object>"
      ]
     },
     "metadata": {},
     "output_type": "display_data"
    }
   ],
   "source": [
    "displacy.render(doc, style='ent')"
   ]
  },
  {
   "cell_type": "code",
   "execution_count": 9,
   "metadata": {},
   "outputs": [
    {
     "name": "stdout",
     "output_type": "stream",
     "text": [
      "('spacy',)\n"
     ]
    }
   ],
   "source": [
    "print(EntityRecognizer.available_backbone_models('spacy'))"
   ]
  },
  {
   "cell_type": "code",
   "execution_count": 10,
   "metadata": {},
   "outputs": [],
   "source": [
    "twits = [\"¿Sabías que la Gran Vía de Madrid es una de las calles más icónicas de la ciudad? ¡Es un destino obligado para compras, comidas y vida nocturna!\",\n",
    "\"Pasea por la encantadora Calle de la Luna, en el corazón del centro histórico de Madrid. Esta calle está llena de cafeterías, tiendas y arquitectura hermosa.\",\n",
    "\"Prepárate para compras sin fin en la famosa Calle de Preciados, una de las calles de compras más populares de Madrid. ¡Encontrarás todo, desde moda alta hasta souvenirs asequibles!\",\n",
    "\"¡Disfruta la noche en la Calle de la Reina, conocida por sus bares, clubs y escenarios de música en vivo! ¡El lugar perfecto para bailar la noche! \",\n",
    "\"Descubre la encantadora Calle de los Cuchilleros, una calle histórica en el corazón del barrio antiguo de Madrid. ¡Admira la arquitectura, prueba tapas y disfruta del ambiente animado!\",\n",
    "\"¿Buscas una experiencia de compras única? ¡Vete a la Calle de Serrano, conocida por sus boutiques de alta gama, galerías de arte y tiendas de antigüedades!\",\n",
    "\"Pasea por la Calle de San Jerónimo, una calle pintoresca en el corazón del centro histórico de Madrid. ¡Admira la arquitectura, visita el Palacio Real y disfruta del ambiente animado!\",\n",
    "\"¡Prepárate para una aventura culinaria en la Calle de la Ballesta, conocida por sus mercados de comida y especialidades culinarias españolas tradicionales. ¡Prueba tapas y especialidades locales!\",\n",
    "\"Explora el barrio trendy de Malasaña en la Calle de la Cruz, conocido por su cultura alternativa, arte callejero y tiendas indie. ¡El lugar perfecto para hipsters y creativos!\",\n",
    "\"¡Acaba tu día con un paseo romántico por la Calle de la Montera, una calle encantadora en el corazón del centro histórico de Madrid. ¡Admira la arquitectura, visita la Plaza Mayor y disfruta del ambiente animado!\",\n",
    "\"Descubre la Calle de la Paloma, un oasis de tranquilidad en el corazón del barrio de Salamanca. ¡Admira la arquitectura, disfruta de la comida y el ambiente relajado!\",\n",
    "\"¡Explora la Calle de la Luna, en el barrio de Chueca, conocida por sus tiendas de moda, bares y vida nocturna!\",\n",
    "\"¡Pasea por la Calle de la Reina Cristina, en el barrio de Chamberí, y descubre sus tiendas de diseño, cafeterías y ambiente relajado!\",\n",
    "\"¡Visita la Calle de San Andrés, en el corazón del barrio de Malasaña, y descubre sus tiendas indie, bares y vida nocturna!\",\n",
    "\"¡Descubre la Calle de la Libertad, en el barrio de Salamanca, conocida por sus tiendas de alta gama, restaurantes y ambiente elegante!\",\n",
    "\"¡Pasea por la Calle de Santa Isabel, en el barrio de Embajadores, y descubre sus tiendas de ropa, comida y ambiente animado!\",\n",
    "\"¡Explora la Calle de la Princesa, en el barrio de Chamberí, conocida por sus tiendas de diseño, restaurantes y ambiente relajado!\",\n",
    "\"¡Visita la Calle de la Cava Baja, en el corazón del barrio de La Latina, y descubre sus tiendas de ropa, comida y ambiente animado!\",\n",
    "\"¡Descubre la Calle de la Cruz del Sur, en el barrio de Carabanchel, conocida por sus tiendas de ropa, comida y ambiente relajado!\",\n",
    "\"¡Pasea por la Calle de la Madera, en el barrio de Salamanca, y descubre sus tiendas de diseño, restaurantes y ambiente elegante!\",\n",
    "\"¡Descubre la Calle de la Concepción, en el barrio de Chamberí, conocida por sus tiendas de ropa, comida y ambiente relajado!\",\n",
    "\"¡Pasea por la Calle de la Puebla, en el barrio de Malasaña, y descubre sus tiendas indie, bares y vida nocturna!\",\n",
    "\"¡Visita la Calle de la Madera Alta, en el barrio de Salamanca, conocida por sus tiendas de diseño, restaurantes y ambiente elegante!\",\n",
    "\"¡Explora la Calle de la Almirante, en el barrio de Chamartín, conocida por sus tiendas de ropa, comida y ambiente relajado!\",\n",
    "\"¡Descubre la Calle de la Vega, en el barrio de Arganzuela, conocida por sus tiendas de ropa, comida y ambiente animado!\",\n",
    "\"¡Pasea por la Calle de la Rosa, en el barrio de Chamberí, y descubre sus tiendas de diseño, restaurantes y ambiente relajado!\",\n",
    "\"¡Visita la Calle de la Estrella, en el barrio de Salamanca, conocida por sus tiendas de alta gama, restaurantes y ambiente elegante!\",\n",
    "\"¡Explora la Calle de la Ocaña, en el barrio de Carabanchel, conocida por sus tiendas de ropa, comida y ambiente relajado!\",\n",
    "\"¡Descubre la Calle de la Paz, en el barrio de Retiro, conocida por sus tiendas de diseño, restaurantes y ambiente relajado!\"\n",
    "]"
   ]
  },
  {
   "cell_type": "code",
   "execution_count": 11,
   "metadata": {},
   "outputs": [],
   "source": [
    "madridTwits = pd.read_csv(\"C://Users//alvaro.gutierrez//Github//Spatial-Analysis//text-classification//twits-madrid.csv\")"
   ]
  },
  {
   "cell_type": "code",
   "execution_count": 12,
   "metadata": {},
   "outputs": [
    {
     "name": "stdout",
     "output_type": "stream",
     "text": [
      "¡Disfruta | MISC\n",
      "Calle de la Reina | LOC\n"
     ]
    },
    {
     "data": {
      "text/html": [
       "<span class=\"tex2jax_ignore\"><div class=\"entities\" style=\"line-height: 2.5; direction: ltr\">\n",
       "<mark class=\"entity\" style=\"background: #ddd; padding: 0.45em 0.6em; margin: 0 0.25em; line-height: 1; border-radius: 0.35em;\">\n",
       "    ¡Disfruta\n",
       "    <span style=\"font-size: 0.8em; font-weight: bold; line-height: 1; border-radius: 0.35em; vertical-align: middle; margin-left: 0.5rem\">MISC</span>\n",
       "</mark>\n",
       " la noche en la \n",
       "<mark class=\"entity\" style=\"background: #ff9561; padding: 0.45em 0.6em; margin: 0 0.25em; line-height: 1; border-radius: 0.35em;\">\n",
       "    Calle de la Reina\n",
       "    <span style=\"font-size: 0.8em; font-weight: bold; line-height: 1; border-radius: 0.35em; vertical-align: middle; margin-left: 0.5rem\">LOC</span>\n",
       "</mark>\n",
       ", conocida por sus bares, clubs y escenarios de música en vivo! ¡El lugar perfecto para bailar la noche! </div></span>"
      ],
      "text/plain": [
       "<IPython.core.display.HTML object>"
      ]
     },
     "metadata": {},
     "output_type": "display_data"
    }
   ],
   "source": [
    "twit = nlp(madridTwits.iloc[3,1])\n",
    "for ent in twit.ents:\n",
    "    print(ent.text,'|', ent.label_)\n",
    "\n",
    "displacy.render(twit, style='ent')"
   ]
  }
 ],
 "metadata": {
  "kernelspec": {
   "display_name": "Python 3",
   "language": "python",
   "name": "python3"
  },
  "language_info": {
   "codemirror_mode": {
    "name": "ipython",
    "version": 3
   },
   "file_extension": ".py",
   "mimetype": "text/x-python",
   "name": "python",
   "nbconvert_exporter": "python",
   "pygments_lexer": "ipython3",
   "version": "3.11.8"
  }
 },
 "nbformat": 4,
 "nbformat_minor": 2
}
